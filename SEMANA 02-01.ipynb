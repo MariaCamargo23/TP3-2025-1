{
 "cells": [
  {
   "cell_type": "code",
   "execution_count": 4,
   "id": "45342c45-3da2-4246-8174-666f614b5f81",
   "metadata": {},
   "outputs": [],
   "source": [
    "#Colección de datos \n"
   ]
  },
  {
   "cell_type": "code",
   "execution_count": 5,
   "id": "cc8a1412-1f67-4d81-861c-640e9bdd16b8",
   "metadata": {},
   "outputs": [],
   "source": [
    "aula = ['Alaluna','Avila','Cabanillas','Camargo']"
   ]
  },
  {
   "cell_type": "code",
   "execution_count": 6,
   "id": "59a18af2-0521-42a6-b31b-11b1fd636d2b",
   "metadata": {},
   "outputs": [
    {
     "data": {
      "text/plain": [
       "['Alaluna', 'Avila', 'Cabanillas', 'Camargo']"
      ]
     },
     "execution_count": 6,
     "metadata": {},
     "output_type": "execute_result"
    }
   ],
   "source": [
    "aula"
   ]
  },
  {
   "cell_type": "code",
   "execution_count": 9,
   "id": "a3c9a94a-c0d6-4a7f-b259-32b6ad331caa",
   "metadata": {},
   "outputs": [
    {
     "data": {
      "text/plain": [
       "['Alaluna', 'Avila', 'Cabanillas', 'Camargo', 'chipana', 'cardenas']"
      ]
     },
     "execution_count": 9,
     "metadata": {},
     "output_type": "execute_result"
    }
   ],
   "source": [
    "aula.append('chipana')\n",
    "aula.append('cardenas')\n",
    "aula"
   ]
  },
  {
   "cell_type": "code",
   "execution_count": 10,
   "id": "840d560d-ff81-42ca-90a3-6e1056ccbdff",
   "metadata": {},
   "outputs": [
    {
     "data": {
      "text/plain": [
       "['Alaluna', 'Avila', 'Cabanillas', 'Camargo', 'cardenas']"
      ]
     },
     "execution_count": 10,
     "metadata": {},
     "output_type": "execute_result"
    }
   ],
   "source": [
    "aula.remove('chipana')\n",
    "aula"
   ]
  },
  {
   "cell_type": "code",
   "execution_count": null,
   "id": "5def623f-8ca1-4be5-b509-71f379ed4ce1",
   "metadata": {},
   "outputs": [],
   "source": []
  }
 ],
 "metadata": {
  "kernelspec": {
   "display_name": "Python [conda env:base] *",
   "language": "python",
   "name": "conda-base-py"
  },
  "language_info": {
   "codemirror_mode": {
    "name": "ipython",
    "version": 3
   },
   "file_extension": ".py",
   "mimetype": "text/x-python",
   "name": "python",
   "nbconvert_exporter": "python",
   "pygments_lexer": "ipython3",
   "version": "3.12.7"
  }
 },
 "nbformat": 4,
 "nbformat_minor": 5
}
